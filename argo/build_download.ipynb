{
 "cells": [
  {
   "cell_type": "code",
   "execution_count": 1,
   "metadata": {},
   "outputs": [],
   "source": [
    "import xarray as xr\n",
    "import fsspec"
   ]
  },
  {
   "cell_type": "code",
   "execution_count": 2,
   "metadata": {},
   "outputs": [
    {
     "ename": "TypeError",
     "evalue": "unhashable type: 'FSMap'",
     "output_type": "error",
     "traceback": [
      "\u001b[0;31m---------------------------------------------------------------------------\u001b[0m",
      "\u001b[0;31mTypeError\u001b[0m                                 Traceback (most recent call last)",
      "Cell \u001b[0;32mIn[2], line 3\u001b[0m\n\u001b[1;32m      1\u001b[0m ftp_url \u001b[39m=\u001b[39m \u001b[39m\"\u001b[39m\u001b[39mftp://ftp.ifremer.fr/ifremer/argo/geo/pacific_ocean/2022/01/20220110_prof.nc\u001b[39m\u001b[39m\"\u001b[39m\n\u001b[1;32m      2\u001b[0m mapper \u001b[39m=\u001b[39m fsspec\u001b[39m.\u001b[39mget_mapper(ftp_url)\n\u001b[0;32m----> 3\u001b[0m ds \u001b[39m=\u001b[39m xr\u001b[39m.\u001b[39;49mopen_dataset(mapper, engine\u001b[39m=\u001b[39;49m\u001b[39m\"\u001b[39;49m\u001b[39mh5netcdf\u001b[39;49m\u001b[39m\"\u001b[39;49m)\n",
      "File \u001b[0;32m~/anaconda3/envs/ooi_dev/lib/python3.10/site-packages/xarray/backends/api.py:570\u001b[0m, in \u001b[0;36mopen_dataset\u001b[0;34m(filename_or_obj, engine, chunks, cache, decode_cf, mask_and_scale, decode_times, decode_timedelta, use_cftime, concat_characters, decode_coords, drop_variables, inline_array, chunked_array_type, from_array_kwargs, backend_kwargs, **kwargs)\u001b[0m\n\u001b[1;32m    558\u001b[0m decoders \u001b[39m=\u001b[39m _resolve_decoders_kwargs(\n\u001b[1;32m    559\u001b[0m     decode_cf,\n\u001b[1;32m    560\u001b[0m     open_backend_dataset_parameters\u001b[39m=\u001b[39mbackend\u001b[39m.\u001b[39mopen_dataset_parameters,\n\u001b[0;32m   (...)\u001b[0m\n\u001b[1;32m    566\u001b[0m     decode_coords\u001b[39m=\u001b[39mdecode_coords,\n\u001b[1;32m    567\u001b[0m )\n\u001b[1;32m    569\u001b[0m overwrite_encoded_chunks \u001b[39m=\u001b[39m kwargs\u001b[39m.\u001b[39mpop(\u001b[39m\"\u001b[39m\u001b[39moverwrite_encoded_chunks\u001b[39m\u001b[39m\"\u001b[39m, \u001b[39mNone\u001b[39;00m)\n\u001b[0;32m--> 570\u001b[0m backend_ds \u001b[39m=\u001b[39m backend\u001b[39m.\u001b[39;49mopen_dataset(\n\u001b[1;32m    571\u001b[0m     filename_or_obj,\n\u001b[1;32m    572\u001b[0m     drop_variables\u001b[39m=\u001b[39;49mdrop_variables,\n\u001b[1;32m    573\u001b[0m     \u001b[39m*\u001b[39;49m\u001b[39m*\u001b[39;49mdecoders,\n\u001b[1;32m    574\u001b[0m     \u001b[39m*\u001b[39;49m\u001b[39m*\u001b[39;49mkwargs,\n\u001b[1;32m    575\u001b[0m )\n\u001b[1;32m    576\u001b[0m ds \u001b[39m=\u001b[39m _dataset_from_backend_dataset(\n\u001b[1;32m    577\u001b[0m     backend_ds,\n\u001b[1;32m    578\u001b[0m     filename_or_obj,\n\u001b[0;32m   (...)\u001b[0m\n\u001b[1;32m    588\u001b[0m     \u001b[39m*\u001b[39m\u001b[39m*\u001b[39mkwargs,\n\u001b[1;32m    589\u001b[0m )\n\u001b[1;32m    590\u001b[0m \u001b[39mreturn\u001b[39;00m ds\n",
      "File \u001b[0;32m~/anaconda3/envs/ooi_dev/lib/python3.10/site-packages/xarray/backends/h5netcdf_.py:400\u001b[0m, in \u001b[0;36mH5netcdfBackendEntrypoint.open_dataset\u001b[0;34m(self, filename_or_obj, mask_and_scale, decode_times, concat_characters, decode_coords, drop_variables, use_cftime, decode_timedelta, format, group, lock, invalid_netcdf, phony_dims, decode_vlen_strings)\u001b[0m\n\u001b[1;32m    381\u001b[0m \u001b[39mdef\u001b[39;00m \u001b[39mopen_dataset\u001b[39m(  \u001b[39m# type: ignore[override]  # allow LSP violation, not supporting **kwargs\u001b[39;00m\n\u001b[1;32m    382\u001b[0m     \u001b[39mself\u001b[39m,\n\u001b[1;32m    383\u001b[0m     filename_or_obj: \u001b[39mstr\u001b[39m \u001b[39m|\u001b[39m os\u001b[39m.\u001b[39mPathLike[Any] \u001b[39m|\u001b[39m BufferedIOBase \u001b[39m|\u001b[39m AbstractDataStore,\n\u001b[0;32m   (...)\u001b[0m\n\u001b[1;32m    397\u001b[0m     decode_vlen_strings\u001b[39m=\u001b[39m\u001b[39mTrue\u001b[39;00m,\n\u001b[1;32m    398\u001b[0m ) \u001b[39m-\u001b[39m\u001b[39m>\u001b[39m Dataset:\n\u001b[1;32m    399\u001b[0m     filename_or_obj \u001b[39m=\u001b[39m _normalize_path(filename_or_obj)\n\u001b[0;32m--> 400\u001b[0m     store \u001b[39m=\u001b[39m H5NetCDFStore\u001b[39m.\u001b[39;49mopen(\n\u001b[1;32m    401\u001b[0m         filename_or_obj,\n\u001b[1;32m    402\u001b[0m         \u001b[39mformat\u001b[39;49m\u001b[39m=\u001b[39;49m\u001b[39mformat\u001b[39;49m,\n\u001b[1;32m    403\u001b[0m         group\u001b[39m=\u001b[39;49mgroup,\n\u001b[1;32m    404\u001b[0m         lock\u001b[39m=\u001b[39;49mlock,\n\u001b[1;32m    405\u001b[0m         invalid_netcdf\u001b[39m=\u001b[39;49minvalid_netcdf,\n\u001b[1;32m    406\u001b[0m         phony_dims\u001b[39m=\u001b[39;49mphony_dims,\n\u001b[1;32m    407\u001b[0m         decode_vlen_strings\u001b[39m=\u001b[39;49mdecode_vlen_strings,\n\u001b[1;32m    408\u001b[0m     )\n\u001b[1;32m    410\u001b[0m     store_entrypoint \u001b[39m=\u001b[39m StoreBackendEntrypoint()\n\u001b[1;32m    412\u001b[0m     ds \u001b[39m=\u001b[39m store_entrypoint\u001b[39m.\u001b[39mopen_dataset(\n\u001b[1;32m    413\u001b[0m         store,\n\u001b[1;32m    414\u001b[0m         mask_and_scale\u001b[39m=\u001b[39mmask_and_scale,\n\u001b[0;32m   (...)\u001b[0m\n\u001b[1;32m    420\u001b[0m         decode_timedelta\u001b[39m=\u001b[39mdecode_timedelta,\n\u001b[1;32m    421\u001b[0m     )\n",
      "File \u001b[0;32m~/anaconda3/envs/ooi_dev/lib/python3.10/site-packages/xarray/backends/h5netcdf_.py:174\u001b[0m, in \u001b[0;36mH5NetCDFStore.open\u001b[0;34m(cls, filename, mode, format, group, lock, autoclose, invalid_netcdf, phony_dims, decode_vlen_strings)\u001b[0m\n\u001b[1;32m    171\u001b[0m     \u001b[39melse\u001b[39;00m:\n\u001b[1;32m    172\u001b[0m         lock \u001b[39m=\u001b[39m combine_locks([HDF5_LOCK, get_write_lock(filename)])\n\u001b[0;32m--> 174\u001b[0m manager \u001b[39m=\u001b[39m CachingFileManager(h5netcdf\u001b[39m.\u001b[39;49mFile, filename, mode\u001b[39m=\u001b[39;49mmode, kwargs\u001b[39m=\u001b[39;49mkwargs)\n\u001b[1;32m    175\u001b[0m \u001b[39mreturn\u001b[39;00m \u001b[39mcls\u001b[39m(manager, group\u001b[39m=\u001b[39mgroup, mode\u001b[39m=\u001b[39mmode, lock\u001b[39m=\u001b[39mlock, autoclose\u001b[39m=\u001b[39mautoclose)\n",
      "File \u001b[0;32m~/anaconda3/envs/ooi_dev/lib/python3.10/site-packages/xarray/backends/file_manager.py:148\u001b[0m, in \u001b[0;36mCachingFileManager.__init__\u001b[0;34m(self, opener, mode, kwargs, lock, cache, manager_id, ref_counts, *args)\u001b[0m\n\u001b[1;32m    146\u001b[0m     manager_id \u001b[39m=\u001b[39m \u001b[39mstr\u001b[39m(uuid\u001b[39m.\u001b[39muuid4())\n\u001b[1;32m    147\u001b[0m \u001b[39mself\u001b[39m\u001b[39m.\u001b[39m_manager_id \u001b[39m=\u001b[39m manager_id\n\u001b[0;32m--> 148\u001b[0m \u001b[39mself\u001b[39m\u001b[39m.\u001b[39m_key \u001b[39m=\u001b[39m \u001b[39mself\u001b[39;49m\u001b[39m.\u001b[39;49m_make_key()\n\u001b[1;32m    150\u001b[0m \u001b[39m# ref_counts[self._key] stores the number of CachingFileManager objects\u001b[39;00m\n\u001b[1;32m    151\u001b[0m \u001b[39m# in memory referencing this same file. We use this to know if we can\u001b[39;00m\n\u001b[1;32m    152\u001b[0m \u001b[39m# close a file when the manager is deallocated.\u001b[39;00m\n\u001b[1;32m    153\u001b[0m \u001b[39mif\u001b[39;00m ref_counts \u001b[39mis\u001b[39;00m \u001b[39mNone\u001b[39;00m:\n",
      "File \u001b[0;32m~/anaconda3/envs/ooi_dev/lib/python3.10/site-packages/xarray/backends/file_manager.py:167\u001b[0m, in \u001b[0;36mCachingFileManager._make_key\u001b[0;34m(self)\u001b[0m\n\u001b[1;32m    159\u001b[0m \u001b[39m\u001b[39m\u001b[39m\"\"\"Make a key for caching files in the LRU cache.\"\"\"\u001b[39;00m\n\u001b[1;32m    160\u001b[0m value \u001b[39m=\u001b[39m (\n\u001b[1;32m    161\u001b[0m     \u001b[39mself\u001b[39m\u001b[39m.\u001b[39m_opener,\n\u001b[1;32m    162\u001b[0m     \u001b[39mself\u001b[39m\u001b[39m.\u001b[39m_args,\n\u001b[0;32m   (...)\u001b[0m\n\u001b[1;32m    165\u001b[0m     \u001b[39mself\u001b[39m\u001b[39m.\u001b[39m_manager_id,\n\u001b[1;32m    166\u001b[0m )\n\u001b[0;32m--> 167\u001b[0m \u001b[39mreturn\u001b[39;00m _HashedSequence(value)\n",
      "File \u001b[0;32m~/anaconda3/envs/ooi_dev/lib/python3.10/site-packages/xarray/backends/file_manager.py:333\u001b[0m, in \u001b[0;36m_HashedSequence.__init__\u001b[0;34m(self, tuple_value)\u001b[0m\n\u001b[1;32m    331\u001b[0m \u001b[39mdef\u001b[39;00m \u001b[39m__init__\u001b[39m(\u001b[39mself\u001b[39m, tuple_value):\n\u001b[1;32m    332\u001b[0m     \u001b[39mself\u001b[39m[:] \u001b[39m=\u001b[39m tuple_value\n\u001b[0;32m--> 333\u001b[0m     \u001b[39mself\u001b[39m\u001b[39m.\u001b[39mhashvalue \u001b[39m=\u001b[39m \u001b[39mhash\u001b[39;49m(tuple_value)\n",
      "\u001b[0;31mTypeError\u001b[0m: unhashable type: 'FSMap'"
     ]
    }
   ],
   "source": [
    "\n",
    "ftp_url = \"ftp://ftp.ifremer.fr/ifremer/argo/geo/pacific_ocean/2022/01/20220110_prof.nc\"\n",
    "mapper = fsspec.get_mapper(ftp_url)\n",
    "ds = xr.open_dataset(mapper, engine=\"h5netcdf\")"
   ]
  },
  {
   "cell_type": "code",
   "execution_count": null,
   "metadata": {},
   "outputs": [],
   "source": []
  }
 ],
 "metadata": {
  "kernelspec": {
   "display_name": "ooi_dev",
   "language": "python",
   "name": "python3"
  },
  "language_info": {
   "codemirror_mode": {
    "name": "ipython",
    "version": 3
   },
   "file_extension": ".py",
   "mimetype": "text/x-python",
   "name": "python",
   "nbconvert_exporter": "python",
   "pygments_lexer": "ipython3",
   "version": "3.10.0"
  },
  "orig_nbformat": 4
 },
 "nbformat": 4,
 "nbformat_minor": 2
}
