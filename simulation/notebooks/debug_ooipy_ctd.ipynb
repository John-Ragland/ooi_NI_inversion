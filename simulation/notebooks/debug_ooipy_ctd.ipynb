{
 "cells": [
  {
   "cell_type": "markdown",
   "id": "4f3958af-9ca9-4a79-8474-8470a36bef97",
   "metadata": {},
   "source": [
    "# Debug OOIPY CTD  ._."
   ]
  },
  {
   "cell_type": "code",
   "execution_count": 1,
   "id": "737d6dd5-abf7-474e-aa81-9f2fab10f2f4",
   "metadata": {},
   "outputs": [],
   "source": [
    "from ooipy_dev.ooipy import ooipy"
   ]
  },
  {
   "cell_type": "code",
   "execution_count": 3,
   "id": "66adddb6-b026-42e9-8e0b-87a2afab7d03",
   "metadata": {},
   "outputs": [
    {
     "ename": "AttributeError",
     "evalue": "module 'ooipy_dev.ooipy.ooipy' has no attribute 'request'",
     "output_type": "error",
     "traceback": [
      "\u001b[0;31m---------------------------------------------------------------------------\u001b[0m",
      "\u001b[0;31mAttributeError\u001b[0m                            Traceback (most recent call last)",
      "Input \u001b[0;32mIn [3]\u001b[0m, in \u001b[0;36m<cell line: 3>\u001b[0;34m()\u001b[0m\n\u001b[1;32m      1\u001b[0m USERNAME \u001b[38;5;241m=\u001b[39m \u001b[38;5;124m'\u001b[39m\u001b[38;5;124mOOIAPI-9OW3P96UZ9YKH6\u001b[39m\u001b[38;5;124m'\u001b[39m\n\u001b[1;32m      2\u001b[0m TOKEN \u001b[38;5;241m=\u001b[39m  \u001b[38;5;124m'\u001b[39m\u001b[38;5;124mTEMP-TOKEN-A3STSZK6P6ULST\u001b[39m\u001b[38;5;124m'\u001b[39m\n\u001b[0;32m----> 3\u001b[0m \u001b[43mooipy\u001b[49m\u001b[38;5;241;43m.\u001b[39;49m\u001b[43mrequest\u001b[49m\u001b[38;5;241m.\u001b[39mauthentification\u001b[38;5;241m.\u001b[39mset_authentification(USERNAME, TOKEN)\n",
      "\u001b[0;31mAttributeError\u001b[0m: module 'ooipy_dev.ooipy.ooipy' has no attribute 'request'"
     ]
    }
   ],
   "source": [
    "USERNAME = 'OOIAPI-9OW3P96UZ9YKH6'\n",
    "TOKEN =  'TEMP-TOKEN-A3STSZK6P6ULST'\n",
    "ooipy.request.authentification.set_authentification(USERNAME, TOKEN)"
   ]
  },
  {
   "cell_type": "code",
   "execution_count": null,
   "id": "c2cba7b7-d04c-4a71-a789-06fdc59dbb28",
   "metadata": {},
   "outputs": [],
   "source": [
    "profile = ooipy.request.ctd_request.get_ctd_data_daily(day, location='axial_base')"
   ]
  }
 ],
 "metadata": {
  "kernelspec": {
   "display_name": "Python 3 (ipykernel)",
   "language": "python",
   "name": "python3"
  },
  "language_info": {
   "codemirror_mode": {
    "name": "ipython",
    "version": 3
   },
   "file_extension": ".py",
   "mimetype": "text/x-python",
   "name": "python",
   "nbconvert_exporter": "python",
   "pygments_lexer": "ipython3",
   "version": "3.10.4"
  }
 },
 "nbformat": 4,
 "nbformat_minor": 5
}
