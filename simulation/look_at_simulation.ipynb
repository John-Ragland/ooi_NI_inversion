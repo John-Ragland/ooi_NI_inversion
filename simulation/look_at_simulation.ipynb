{
 "cells": [
  {
   "cell_type": "markdown",
   "id": "44fd877b-3469-4d4f-84bb-7083e8cf2a8c",
   "metadata": {},
   "source": [
    "# Look at simulation results"
   ]
  },
  {
   "cell_type": "code",
   "execution_count": 21,
   "id": "266170c9-98ec-4ea8-8561-4ed68bd9a0cb",
   "metadata": {},
   "outputs": [],
   "source": [
    "import xarray as xr\n",
    "import pandas as pd\n",
    "import numpy as np\n",
    "import matplotlib.pyplot as plt\n",
    "import hvplot.xarray\n",
    "\n",
    "#from matplotlib import rc\n",
    "#rc('text', usetex=True)\n",
    "plt.rcParams['font.family'] = 'serif'\n",
    "plt.rcParams['font.size'] = 14\n",
    "plt.rcParams['text.usetex']=True"
   ]
  },
  {
   "cell_type": "markdown",
   "id": "b1a89a9f-356f-4e89-b07c-06c93b770363",
   "metadata": {},
   "source": [
    "## Temperature"
   ]
  },
  {
   "cell_type": "code",
   "execution_count": 22,
   "id": "05d75569-14d9-4ddc-be92-63bf27e338d5",
   "metadata": {},
   "outputs": [],
   "source": [
    "fn = '/datadrive/simulation/caldera_inversion_timeseries.nc'\n",
    "temp_sim = xr.open_dataset(fn)"
   ]
  },
  {
   "cell_type": "code",
   "execution_count": null,
   "id": "66a718d7-7d6b-4ece-993a-d83f9c50d12b",
   "metadata": {},
   "outputs": [],
   "source": []
  }
 ],
 "metadata": {
  "kernelspec": {
   "display_name": "Python 3 (ipykernel)",
   "language": "python",
   "name": "python3"
  },
  "language_info": {
   "codemirror_mode": {
    "name": "ipython",
    "version": 3
   },
   "file_extension": ".py",
   "mimetype": "text/x-python",
   "name": "python",
   "nbconvert_exporter": "python",
   "pygments_lexer": "ipython3",
   "version": "3.10.4"
  }
 },
 "nbformat": 4,
 "nbformat_minor": 5
}
